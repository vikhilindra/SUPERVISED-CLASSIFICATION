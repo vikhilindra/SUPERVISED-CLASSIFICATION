{
  "nbformat": 4,
  "nbformat_minor": 0,
  "metadata": {
    "kernelspec": {
      "display_name": "Python 3",
      "language": "python",
      "name": "python3"
    },
    "language_info": {
      "codemirror_mode": {
        "name": "ipython",
        "version": 3
      },
      "file_extension": ".py",
      "mimetype": "text/x-python",
      "name": "python",
      "nbconvert_exporter": "python",
      "pygments_lexer": "ipython3",
      "version": "3.7.3"
    },
    "colab": {
      "name": "ENSEMBLE_MODELS_FOR CANCER_DATA_AUC_METRIC_1.ipynb",
      "provenance": [],
      "collapsed_sections": [
        "k7hTRS9fALq8",
        "XUAJcXpcALrD"
      ],
      "machine_shape": "hm"
    },
    "accelerator": "GPU"
  },
  "cells": [
    {
      "cell_type": "code",
      "metadata": {
        "id": "D3e-KJqoALqI",
        "colab_type": "code",
        "colab": {
          "base_uri": "https://localhost:8080/",
          "height": 71
        },
        "outputId": "57fc3498-53b9-42dd-8d4c-c54611721c73"
      },
      "source": [
        "import numpy as np\n",
        "import pandas as pd\n",
        "import matplotlib.pyplot as plt\n",
        "import seaborn as sns"
      ],
      "execution_count": 2,
      "outputs": [
        {
          "output_type": "stream",
          "text": [
            "/usr/local/lib/python3.6/dist-packages/statsmodels/tools/_testing.py:19: FutureWarning: pandas.util.testing is deprecated. Use the functions in the public API at pandas.testing instead.\n",
            "  import pandas.util.testing as tm\n"
          ],
          "name": "stderr"
        }
      ]
    },
    {
      "cell_type": "code",
      "metadata": {
        "id": "da8JumQzAfpL",
        "colab_type": "code",
        "colab": {
          "base_uri": "https://localhost:8080/",
          "height": 122
        },
        "outputId": "57fc445e-8911-481b-ffd7-4be2e7ca7f61"
      },
      "source": [
        "from google.colab import drive\n",
        "drive.mount('/content/drive')"
      ],
      "execution_count": 3,
      "outputs": [
        {
          "output_type": "stream",
          "text": [
            "Go to this URL in a browser: https://accounts.google.com/o/oauth2/auth?client_id=947318989803-6bn6qk8qdgf4n4g3pfee6491hc0brc4i.apps.googleusercontent.com&redirect_uri=urn%3aietf%3awg%3aoauth%3a2.0%3aoob&response_type=code&scope=email%20https%3a%2f%2fwww.googleapis.com%2fauth%2fdocs.test%20https%3a%2f%2fwww.googleapis.com%2fauth%2fdrive%20https%3a%2f%2fwww.googleapis.com%2fauth%2fdrive.photos.readonly%20https%3a%2f%2fwww.googleapis.com%2fauth%2fpeopleapi.readonly\n",
            "\n",
            "Enter your authorization code:\n",
            "··········\n",
            "Mounted at /content/drive\n"
          ],
          "name": "stdout"
        }
      ]
    },
    {
      "cell_type": "code",
      "metadata": {
        "id": "YoHSkfhSALqM",
        "colab_type": "code",
        "colab": {}
      },
      "source": [
        "df=pd.read_csv(\"/content/drive/My Drive/DATASETS /US_Heart_Patients.csv\")"
      ],
      "execution_count": 0,
      "outputs": []
    },
    {
      "cell_type": "code",
      "metadata": {
        "id": "rEx3Aum7ALqO",
        "colab_type": "code",
        "colab": {}
      },
      "source": [
        "df.rename(columns={'male':'gender'},inplace=True)"
      ],
      "execution_count": 0,
      "outputs": []
    },
    {
      "cell_type": "code",
      "metadata": {
        "id": "mcX3nJQWALqR",
        "colab_type": "code",
        "colab": {
          "base_uri": "https://localhost:8080/",
          "height": 224
        },
        "outputId": "335bb6e5-e3d5-4715-b62f-4db649519248"
      },
      "source": [
        "df.head()"
      ],
      "execution_count": 6,
      "outputs": [
        {
          "output_type": "execute_result",
          "data": {
            "text/html": [
              "<div>\n",
              "<style scoped>\n",
              "    .dataframe tbody tr th:only-of-type {\n",
              "        vertical-align: middle;\n",
              "    }\n",
              "\n",
              "    .dataframe tbody tr th {\n",
              "        vertical-align: top;\n",
              "    }\n",
              "\n",
              "    .dataframe thead th {\n",
              "        text-align: right;\n",
              "    }\n",
              "</style>\n",
              "<table border=\"1\" class=\"dataframe\">\n",
              "  <thead>\n",
              "    <tr style=\"text-align: right;\">\n",
              "      <th></th>\n",
              "      <th>gender</th>\n",
              "      <th>age</th>\n",
              "      <th>education</th>\n",
              "      <th>currentSmoker</th>\n",
              "      <th>cigsPerDay</th>\n",
              "      <th>BPMeds</th>\n",
              "      <th>prevalentStroke</th>\n",
              "      <th>prevalentHyp</th>\n",
              "      <th>diabetes</th>\n",
              "      <th>totChol</th>\n",
              "      <th>sysBP</th>\n",
              "      <th>diaBP</th>\n",
              "      <th>BMI</th>\n",
              "      <th>heartRate</th>\n",
              "      <th>glucose</th>\n",
              "      <th>TenYearCHD</th>\n",
              "    </tr>\n",
              "  </thead>\n",
              "  <tbody>\n",
              "    <tr>\n",
              "      <th>0</th>\n",
              "      <td>1</td>\n",
              "      <td>39</td>\n",
              "      <td>4.0</td>\n",
              "      <td>0</td>\n",
              "      <td>0.0</td>\n",
              "      <td>0.0</td>\n",
              "      <td>0</td>\n",
              "      <td>0</td>\n",
              "      <td>0</td>\n",
              "      <td>195.0</td>\n",
              "      <td>106.0</td>\n",
              "      <td>70.0</td>\n",
              "      <td>26.97</td>\n",
              "      <td>80.0</td>\n",
              "      <td>77.0</td>\n",
              "      <td>0</td>\n",
              "    </tr>\n",
              "    <tr>\n",
              "      <th>1</th>\n",
              "      <td>0</td>\n",
              "      <td>46</td>\n",
              "      <td>2.0</td>\n",
              "      <td>0</td>\n",
              "      <td>0.0</td>\n",
              "      <td>0.0</td>\n",
              "      <td>0</td>\n",
              "      <td>0</td>\n",
              "      <td>0</td>\n",
              "      <td>250.0</td>\n",
              "      <td>121.0</td>\n",
              "      <td>81.0</td>\n",
              "      <td>28.73</td>\n",
              "      <td>95.0</td>\n",
              "      <td>76.0</td>\n",
              "      <td>0</td>\n",
              "    </tr>\n",
              "    <tr>\n",
              "      <th>2</th>\n",
              "      <td>1</td>\n",
              "      <td>48</td>\n",
              "      <td>1.0</td>\n",
              "      <td>1</td>\n",
              "      <td>20.0</td>\n",
              "      <td>0.0</td>\n",
              "      <td>0</td>\n",
              "      <td>0</td>\n",
              "      <td>0</td>\n",
              "      <td>245.0</td>\n",
              "      <td>127.5</td>\n",
              "      <td>80.0</td>\n",
              "      <td>25.34</td>\n",
              "      <td>75.0</td>\n",
              "      <td>70.0</td>\n",
              "      <td>0</td>\n",
              "    </tr>\n",
              "    <tr>\n",
              "      <th>3</th>\n",
              "      <td>0</td>\n",
              "      <td>61</td>\n",
              "      <td>3.0</td>\n",
              "      <td>1</td>\n",
              "      <td>30.0</td>\n",
              "      <td>0.0</td>\n",
              "      <td>0</td>\n",
              "      <td>1</td>\n",
              "      <td>0</td>\n",
              "      <td>225.0</td>\n",
              "      <td>150.0</td>\n",
              "      <td>95.0</td>\n",
              "      <td>28.58</td>\n",
              "      <td>65.0</td>\n",
              "      <td>103.0</td>\n",
              "      <td>1</td>\n",
              "    </tr>\n",
              "    <tr>\n",
              "      <th>4</th>\n",
              "      <td>0</td>\n",
              "      <td>46</td>\n",
              "      <td>3.0</td>\n",
              "      <td>1</td>\n",
              "      <td>23.0</td>\n",
              "      <td>0.0</td>\n",
              "      <td>0</td>\n",
              "      <td>0</td>\n",
              "      <td>0</td>\n",
              "      <td>285.0</td>\n",
              "      <td>130.0</td>\n",
              "      <td>84.0</td>\n",
              "      <td>23.10</td>\n",
              "      <td>85.0</td>\n",
              "      <td>85.0</td>\n",
              "      <td>0</td>\n",
              "    </tr>\n",
              "  </tbody>\n",
              "</table>\n",
              "</div>"
            ],
            "text/plain": [
              "   gender  age  education  currentSmoker  ...    BMI  heartRate  glucose  TenYearCHD\n",
              "0       1   39        4.0              0  ...  26.97       80.0     77.0           0\n",
              "1       0   46        2.0              0  ...  28.73       95.0     76.0           0\n",
              "2       1   48        1.0              1  ...  25.34       75.0     70.0           0\n",
              "3       0   61        3.0              1  ...  28.58       65.0    103.0           1\n",
              "4       0   46        3.0              1  ...  23.10       85.0     85.0           0\n",
              "\n",
              "[5 rows x 16 columns]"
            ]
          },
          "metadata": {
            "tags": []
          },
          "execution_count": 6
        }
      ]
    },
    {
      "cell_type": "code",
      "metadata": {
        "id": "rfnpDnitALqU",
        "colab_type": "code",
        "colab": {}
      },
      "source": [
        "data=df.dropna()"
      ],
      "execution_count": 0,
      "outputs": []
    },
    {
      "cell_type": "code",
      "metadata": {
        "id": "MckVaxokALqW",
        "colab_type": "code",
        "colab": {
          "base_uri": "https://localhost:8080/",
          "height": 306
        },
        "outputId": "0ebca983-0162-415e-a10a-58aca2e96016"
      },
      "source": [
        "data.isnull().sum()"
      ],
      "execution_count": 8,
      "outputs": [
        {
          "output_type": "execute_result",
          "data": {
            "text/plain": [
              "gender             0\n",
              "age                0\n",
              "education          0\n",
              "currentSmoker      0\n",
              "cigsPerDay         0\n",
              "BPMeds             0\n",
              "prevalentStroke    0\n",
              "prevalentHyp       0\n",
              "diabetes           0\n",
              "totChol            0\n",
              "sysBP              0\n",
              "diaBP              0\n",
              "BMI                0\n",
              "heartRate          0\n",
              "glucose            0\n",
              "TenYearCHD         0\n",
              "dtype: int64"
            ]
          },
          "metadata": {
            "tags": []
          },
          "execution_count": 8
        }
      ]
    },
    {
      "cell_type": "code",
      "metadata": {
        "id": "AcfxvGFEALqY",
        "colab_type": "code",
        "colab": {
          "base_uri": "https://localhost:8080/",
          "height": 34
        },
        "outputId": "fd2684c8-46bb-46a6-8c2a-aaa8e1f36dd7"
      },
      "source": [
        "data.shape"
      ],
      "execution_count": 9,
      "outputs": [
        {
          "output_type": "execute_result",
          "data": {
            "text/plain": [
              "(3658, 16)"
            ]
          },
          "metadata": {
            "tags": []
          },
          "execution_count": 9
        }
      ]
    },
    {
      "cell_type": "code",
      "metadata": {
        "id": "VMfmf6XqALqb",
        "colab_type": "code",
        "colab": {}
      },
      "source": [
        "X_PM=data[['age','gender','cigsPerDay','sysBP','glucose']]\n",
        "X_AL=data.drop(\"TenYearCHD\",axis=1)\n",
        "Y=data[\"TenYearCHD\"]"
      ],
      "execution_count": 0,
      "outputs": []
    },
    {
      "cell_type": "code",
      "metadata": {
        "id": "R8CxJJQbALqd",
        "colab_type": "code",
        "colab": {}
      },
      "source": [
        "from sklearn.preprocessing import StandardScaler\n",
        "sc=StandardScaler()\n",
        "X_PMS=sc.fit_transform(X_PM)\n",
        "X_ALL=sc.fit_transform(X_AL)"
      ],
      "execution_count": 0,
      "outputs": []
    },
    {
      "cell_type": "code",
      "metadata": {
        "id": "K1vofQFOALqf",
        "colab_type": "code",
        "colab": {
          "base_uri": "https://localhost:8080/",
          "height": 34
        },
        "outputId": "6147e647-6b3f-4443-d859-4b6dd4f81517"
      },
      "source": [
        "X_PMS.shape"
      ],
      "execution_count": 12,
      "outputs": [
        {
          "output_type": "execute_result",
          "data": {
            "text/plain": [
              "(3658, 5)"
            ]
          },
          "metadata": {
            "tags": []
          },
          "execution_count": 12
        }
      ]
    },
    {
      "cell_type": "code",
      "metadata": {
        "id": "8PXVLS2UALqh",
        "colab_type": "code",
        "colab": {
          "base_uri": "https://localhost:8080/",
          "height": 34
        },
        "outputId": "486d85ef-ed2d-4a33-83ad-fa5d1be34417"
      },
      "source": [
        "X_ALL.shape"
      ],
      "execution_count": 13,
      "outputs": [
        {
          "output_type": "execute_result",
          "data": {
            "text/plain": [
              "(3658, 15)"
            ]
          },
          "metadata": {
            "tags": []
          },
          "execution_count": 13
        }
      ]
    },
    {
      "cell_type": "markdown",
      "metadata": {
        "id": "SZ_9p_AxALqn",
        "colab_type": "text"
      },
      "source": [
        "#### AFTER Feature Selection"
      ]
    },
    {
      "cell_type": "code",
      "metadata": {
        "id": "l6gRyswmALqo",
        "colab_type": "code",
        "colab": {}
      },
      "source": [
        "import warnings\n",
        "warnings.filterwarnings(\"ignore\")"
      ],
      "execution_count": 0,
      "outputs": []
    },
    {
      "cell_type": "code",
      "metadata": {
        "id": "5r6v1zd_ALqq",
        "colab_type": "code",
        "colab": {}
      },
      "source": [
        "from sklearn.linear_model import LogisticRegression\n",
        "from sklearn.naive_bayes import GaussianNB"
      ],
      "execution_count": 0,
      "outputs": []
    },
    {
      "cell_type": "code",
      "metadata": {
        "id": "c4m6YXUSALqs",
        "colab_type": "code",
        "colab": {}
      },
      "source": [
        "LR=LogisticRegression()\n",
        "NB=GaussianNB()"
      ],
      "execution_count": 0,
      "outputs": []
    },
    {
      "cell_type": "code",
      "metadata": {
        "id": "tZ6YBU7lALqu",
        "colab_type": "code",
        "colab": {}
      },
      "source": [
        "models=[]\n",
        "models.append((\"LR\",LR))\n",
        "models.append((\"Naivebayes\",NB))"
      ],
      "execution_count": 0,
      "outputs": []
    },
    {
      "cell_type": "code",
      "metadata": {
        "id": "-iNE6nEhALqv",
        "colab_type": "code",
        "colab": {
          "base_uri": "https://localhost:8080/",
          "height": 328
        },
        "outputId": "1fae3e04-4191-4113-e156-d82243c93ce3"
      },
      "source": [
        "# evaluate each model in turn\n",
        "from sklearn import model_selection\n",
        "results=[]\n",
        "names=[]\n",
        "for name, model in models:\n",
        "    kfold = model_selection.KFold(shuffle=True,n_splits=10,random_state=0)\n",
        "    cv_results = model_selection.cross_val_score(model,X_PMS,Y,cv=kfold,scoring='roc_auc')\n",
        "    results.append(cv_results)\n",
        "    names.append(name)\n",
        "    print(\"%s: %f (%f)\" % (name,np.mean(cv_results),np.var(cv_results,ddof=1)))\n",
        "#boxplot algorith comparision\n",
        "fig = plt.figure()\n",
        "fig.suptitle('Algorithm Comparision')\n",
        "ax=fig.add_subplot(111)\n",
        "plt.boxplot(results)\n",
        "ax.set_xticklabels(names)\n",
        "plt.show()"
      ],
      "execution_count": 18,
      "outputs": [
        {
          "output_type": "stream",
          "text": [
            "LR: 0.730523 (0.002275)\n",
            "Naivebayes: 0.724005 (0.001844)\n"
          ],
          "name": "stdout"
        },
        {
          "output_type": "display_data",
          "data": {
            "image/png": "[encoded data removed]",
            "text/plain": [
              "<Figure size 432x288 with 1 Axes>"
            ]
          },
          "metadata": {
            "tags": [],
            "needs_background": "light"
          }
        }
      ]
    },
    {
      "cell_type": "markdown",
      "metadata": {
        "id": "mR2K9QMlALqy",
        "colab_type": "text"
      },
      "source": [
        "#### Here for all Features"
      ]
    },
    {
      "cell_type": "code",
      "metadata": {
        "id": "3NGGVwrQALqy",
        "colab_type": "code",
        "colab": {}
      },
      "source": [
        "import warnings\n",
        "warnings.filterwarnings(\"ignore\")"
      ],
      "execution_count": 0,
      "outputs": []
    },
    {
      "cell_type": "markdown",
      "metadata": {
        "id": "z9bL72yUALq0",
        "colab_type": "text"
      },
      "source": [
        "#### importing the models"
      ]
    },
    {
      "cell_type": "code",
      "metadata": {
        "id": "EdU_5A04ALq1",
        "colab_type": "code",
        "colab": {}
      },
      "source": [
        "from sklearn import model_selection\n",
        "from sklearn.linear_model import LogisticRegression\n",
        "from sklearn.tree import DecisionTreeClassifier\n",
        "from sklearn.ensemble import RandomForestClassifier\n",
        "from sklearn.neighbors import KNeighborsClassifier\n",
        "from sklearn.naive_bayes import GaussianNB\n",
        "from sklearn.ensemble import BaggingClassifier\n",
        "from sklearn.ensemble import AdaBoostClassifier\n",
        "from sklearn.ensemble import GradientBoostingClassifier"
      ],
      "execution_count": 0,
      "outputs": []
    },
    {
      "cell_type": "code",
      "metadata": {
        "id": "MQ0m_fD8ALq3",
        "colab_type": "code",
        "colab": {}
      },
      "source": [
        "LR=LogisticRegression()\n",
        "DT=DecisionTreeClassifier(criterion='gini',random_state = 0)\n",
        "RF=RandomForestClassifier(n_estimators=10,random_state=0)\n",
        "KNN= KNeighborsClassifier(n_neighbors=448,weights='distance')\n",
        "NB=GaussianNB()\n",
        "#bagging models\n",
        "KNN_BAG=BaggingClassifier(base_estimator=KNN, n_estimators=10,random_state = 0)\n",
        "LR_BAG=BaggingClassifier(base_estimator=LR, n_estimators=23,random_state = 0)\n",
        "NB_BAG=BaggingClassifier(base_estimator=NB, n_estimators=10,random_state = 0)\n",
        "DT_BAG=BaggingClassifier(n_estimators=10,random_state = 0)\n",
        "#bosting models\n",
        "LR_BOST=AdaBoostClassifier(base_estimator=LR, n_estimators=50,random_state = 0)\n",
        "NB_BOST=AdaBoostClassifier(base_estimator=NB, n_estimators=50,random_state = 0)\n",
        "RF_BOST=AdaBoostClassifier(base_estimator=RF, n_estimators=50,random_state = 0)\n",
        "DT_BOST=AdaBoostClassifier(base_estimator=DT, n_estimators=50,random_state = 0)\n",
        "Gboost=GradientBoostingClassifier(n_estimators=500)"
      ],
      "execution_count": 0,
      "outputs": []
    },
    {
      "cell_type": "code",
      "metadata": {
        "id": "iz8J4DCUALq4",
        "colab_type": "code",
        "colab": {}
      },
      "source": [
        "models=[]\n",
        "models.append((\"LR\",LR))\n",
        "models.append((\"FGDT\",DT))\n",
        "models.append((\"RF\",RF))\n",
        "models.append((\"KNN\",KNN))\n",
        "models.append((\"NAIVEBAYES\",NB))\n",
        "models.append((\"KNN_BAG\",KNN_BAG))\n",
        "models.append((\"LR_BAG\",LR_BAG))\n",
        "models.append((\"NB_BAG\",NB_BAG))\n",
        "models.append((\"DT_BAG\",DT_BAG))\n",
        "models.append((\"LR_BOST\",LR_BOST))\n",
        "models.append((\"NB_BOST\",NB_BOST))\n",
        "models.append((\"RF_BOST\",RF_BOST))\n",
        "models.append((\"DT_BOST\",DT_BOST))\n",
        "models.append((\"Gboost\",Gboost))"
      ],
      "execution_count": 0,
      "outputs": []
    },
    {
      "cell_type": "code",
      "metadata": {
        "id": "pAnEasR3ALq6",
        "colab_type": "code",
        "colab": {
          "base_uri": "https://localhost:8080/",
          "height": 656
        },
        "outputId": "2d12b150-ef4b-4e1f-80ca-40452f7a9926"
      },
      "source": [
        "# evaluate each model in turn\n",
        "from sklearn import model_selection\n",
        "results=[]\n",
        "names=[]\n",
        "for name, model in models:\n",
        "    kfold = model_selection.KFold(shuffle=True,n_splits=15,random_state=0)\n",
        "    cv_results = model_selection.cross_val_score(model,X_ALL,Y,cv=kfold,scoring='roc_auc')\n",
        "    results.append(cv_results)\n",
        "    names.append(name)\n",
        "    print(\"%s: %f (%f)\" % (name,np.mean(cv_results),np.var(cv_results,ddof=1)))\n",
        "#boxplot algorith comparision\n",
        "fig = plt.figure(figsize=(15,6))\n",
        "fig.suptitle('Algorithm Comparision')\n",
        "ax=fig.add_subplot(111)\n",
        "plt.boxplot(results)\n",
        "ax.set_xticklabels(names)\n",
        "plt.show()"
      ],
      "execution_count": 108,
      "outputs": [
        {
          "output_type": "stream",
          "text": [
            "LR: 0.730366 (0.002339)\n",
            "FGDT: 0.555879 (0.002426)\n",
            "RF: 0.648984 (0.003420)\n",
            "KNN: 0.715437 (0.002381)\n",
            "NAIVEBAYES: 0.713966 (0.002759)\n",
            "KNN_BAG: 0.717554 (0.002312)\n",
            "LR_BAG: 0.730075 (0.002270)\n",
            "NB_BAG: 0.714629 (0.002760)\n",
            "DT_BAG: 0.657649 (0.004137)\n",
            "LR_BOST: 0.730100 (0.002313)\n",
            "NB_BOST: 0.467634 (0.003204)\n",
            "RF_BOST: 0.645863 (0.001927)\n",
            "DT_BOST: 0.552864 (0.002557)\n",
            "Gboost: 0.659943 (0.000971)\n"
          ],
          "name": "stdout"
        },
        {
          "output_type": "display_data",
          "data": {
            "image/png": "[encoded data removed]",
            "text/plain": [
              "<Figure size 1080x432 with 1 Axes>"
            ]
          },
          "metadata": {
            "tags": [],
            "needs_background": "light"
          }
        }
      ]
    },
    {
      "cell_type": "markdown",
      "metadata": {
        "id": "XptMly3xALq7",
        "colab_type": "text"
      },
      "source": [
        "## parameters tuning"
      ]
    },
    {
      "cell_type": "markdown",
      "metadata": {
        "id": "k7hTRS9fALq8",
        "colab_type": "text"
      },
      "source": [
        "#### Finding n_estimators for KNN and DT"
      ]
    },
    {
      "cell_type": "code",
      "metadata": {
        "id": "BFP7G0E6ALq8",
        "colab_type": "code",
        "colab": {}
      },
      "source": [
        "#from sklearn.model_selection import GridSearchCV\n",
        "#from sklearn.neighbors import KNeighborsClassifier\n",
        "#knn = KNeighborsClassifier()\n",
        "#param= {'n_neighbors': np.arange(1,500),'weights':['uniform','distance']}\n",
        "#GS= GridSearchCV(knn,param, cv=15,scoring='roc_auc')\n",
        "#GS.fit(X_ALL,Y)"
      ],
      "execution_count": 0,
      "outputs": []
    },
    {
      "cell_type": "code",
      "metadata": {
        "id": "bs8OpJjnALq-",
        "colab_type": "code",
        "colab": {}
      },
      "source": [
        "#GS.best_params_ "
      ],
      "execution_count": 0,
      "outputs": []
    },
    {
      "cell_type": "code",
      "metadata": {
        "id": "YKg6LEiDALq_",
        "colab_type": "code",
        "colab": {}
      },
      "source": [
        "#from sklearn.model_selection import GridSearchCV\n",
        "#from sklearn.tree import DecisionTreeClassifier\n",
        "#dt = DecisionTreeClassifier(random_state=0)\n",
        "#par_dt= {'criterion':[\"entropy\",'gini']}\n",
        "#GS_dt= GridSearchCV(dt,par_dt, cv=15,scoring='roc_auc')\n",
        "#GS_dt.fit(X_ALL,Y)"
      ],
      "execution_count": 0,
      "outputs": []
    },
    {
      "cell_type": "code",
      "metadata": {
        "id": "6vwZaY5OALrB",
        "colab_type": "code",
        "colab": {}
      },
      "source": [
        "#GS_dt.best_params_ "
      ],
      "execution_count": 0,
      "outputs": []
    },
    {
      "cell_type": "markdown",
      "metadata": {
        "id": "XUAJcXpcALrD",
        "colab_type": "text"
      },
      "source": [
        "#### Tuning N_estimator for bagginglr model"
      ]
    },
    {
      "cell_type": "code",
      "metadata": {
        "id": "MkDt2FZyALrE",
        "colab_type": "code",
        "colab": {}
      },
      "source": [
        "#auc_var=[]\n",
        "#for val in np.arange(1,100):\n",
        "    #LR_BAG=BaggingClassifier(base_estimator=LR, n_estimators=val,random_state=0)\n",
        "    #kfold = model_selection.KFold(shuffle=True,n_splits=15,random_state=0)\n",
        "    #results = model_selection.cross_val_score(LR_BAG,X_ALL,Y,cv=kfold,scoring='roc_auc')\n",
        "    #auc_var.append(np.var(results,ddof=1))\n",
        "#print(auc_var)"
      ],
      "execution_count": 0,
      "outputs": []
    },
    {
      "cell_type": "code",
      "metadata": {
        "id": "lzT2qcAbALrG",
        "colab_type": "code",
        "colab": {}
      },
      "source": [
        "\n",
        "#np.argmin(auc_var)"
      ],
      "execution_count": 0,
      "outputs": []
    },
    {
      "cell_type": "code",
      "metadata": {
        "id": "fI6M_airALrH",
        "colab_type": "code",
        "colab": {}
      },
      "source": [
        "#x_axis=np.arange(1,100)\n",
        "#plt.plot(x_axis,auc_var)\n"
      ],
      "execution_count": 0,
      "outputs": []
    },
    {
      "cell_type": "code",
      "metadata": {
        "id": "lTmmmrAnI5bS",
        "colab_type": "code",
        "colab": {}
      },
      "source": [
        "#gredient bosting "
      ],
      "execution_count": 0,
      "outputs": []
    },
    {
      "cell_type": "code",
      "metadata": {
        "id": "De9HfXxS_00I",
        "colab_type": "code",
        "colab": {}
      },
      "source": [
        "data=pd.DataFrame({\"age\":[13,14,15,25,35,49,68,71,73],\"LIKESGARDENING\":[\"F\",\"F\",\"F\",\"T\",\"F\",\"T\",\"T\",\"T\",\"T\"],\"VIDEGAMES\":[\"T\",\"T\",\"T\",\"T\",\"T\",\"F\",\"T\",\"F\",\"F\"],\"LIKESHAT\":[\"T\",\"F\",\"F\",\"T\",\"T\",\"F\",\"T\",\"F\",\"T\"]})"
      ],
      "execution_count": 0,
      "outputs": []
    },
    {
      "cell_type": "code",
      "metadata": {
        "id": "_EF_ShbRAEmt",
        "colab_type": "code",
        "colab": {
          "base_uri": "https://localhost:8080/",
          "height": 328
        },
        "outputId": "b41ee365-0ff8-4068-bd4e-0b01c9574bdf"
      },
      "source": [
        "datab"
      ],
      "execution_count": 34,
      "outputs": [
        {
          "output_type": "execute_result",
          "data": {
            "text/html": [
              "<div>\n",
              "<style scoped>\n",
              "    .dataframe tbody tr th:only-of-type {\n",
              "        vertical-align: middle;\n",
              "    }\n",
              "\n",
              "    .dataframe tbody tr th {\n",
              "        vertical-align: top;\n",
              "    }\n",
              "\n",
              "    .dataframe thead th {\n",
              "        text-align: right;\n",
              "    }\n",
              "</style>\n",
              "<table border=\"1\" class=\"dataframe\">\n",
              "  <thead>\n",
              "    <tr style=\"text-align: right;\">\n",
              "      <th></th>\n",
              "      <th>age</th>\n",
              "      <th>LIKESGARDENING</th>\n",
              "      <th>VIDEGAMES</th>\n",
              "      <th>LIKESHAT</th>\n",
              "    </tr>\n",
              "  </thead>\n",
              "  <tbody>\n",
              "    <tr>\n",
              "      <th>0</th>\n",
              "      <td>13</td>\n",
              "      <td>F</td>\n",
              "      <td>T</td>\n",
              "      <td>T</td>\n",
              "    </tr>\n",
              "    <tr>\n",
              "      <th>1</th>\n",
              "      <td>14</td>\n",
              "      <td>F</td>\n",
              "      <td>T</td>\n",
              "      <td>F</td>\n",
              "    </tr>\n",
              "    <tr>\n",
              "      <th>2</th>\n",
              "      <td>15</td>\n",
              "      <td>F</td>\n",
              "      <td>T</td>\n",
              "      <td>F</td>\n",
              "    </tr>\n",
              "    <tr>\n",
              "      <th>3</th>\n",
              "      <td>25</td>\n",
              "      <td>T</td>\n",
              "      <td>T</td>\n",
              "      <td>T</td>\n",
              "    </tr>\n",
              "    <tr>\n",
              "      <th>4</th>\n",
              "      <td>35</td>\n",
              "      <td>F</td>\n",
              "      <td>T</td>\n",
              "      <td>T</td>\n",
              "    </tr>\n",
              "    <tr>\n",
              "      <th>5</th>\n",
              "      <td>49</td>\n",
              "      <td>T</td>\n",
              "      <td>F</td>\n",
              "      <td>F</td>\n",
              "    </tr>\n",
              "    <tr>\n",
              "      <th>6</th>\n",
              "      <td>68</td>\n",
              "      <td>T</td>\n",
              "      <td>T</td>\n",
              "      <td>T</td>\n",
              "    </tr>\n",
              "    <tr>\n",
              "      <th>7</th>\n",
              "      <td>71</td>\n",
              "      <td>T</td>\n",
              "      <td>F</td>\n",
              "      <td>F</td>\n",
              "    </tr>\n",
              "    <tr>\n",
              "      <th>8</th>\n",
              "      <td>73</td>\n",
              "      <td>T</td>\n",
              "      <td>F</td>\n",
              "      <td>T</td>\n",
              "    </tr>\n",
              "  </tbody>\n",
              "</table>\n",
              "</div>"
            ],
            "text/plain": [
              "   age LIKESGARDENING VIDEGAMES LIKESHAT\n",
              "0   13              F         T        T\n",
              "1   14              F         T        F\n",
              "2   15              F         T        F\n",
              "3   25              T         T        T\n",
              "4   35              F         T        T\n",
              "5   49              T         F        F\n",
              "6   68              T         T        T\n",
              "7   71              T         F        F\n",
              "8   73              T         F        T"
            ]
          },
          "metadata": {
            "tags": []
          },
          "execution_count": 34
        }
      ]
    },
    {
      "cell_type": "code",
      "metadata": {
        "id": "Ds_2r1PhQPZx",
        "colab_type": "code",
        "colab": {}
      },
      "source": [
        "age=np.array([13,14,15,25,35,49,68,71,73])"
      ],
      "execution_count": 0,
      "outputs": []
    },
    {
      "cell_type": "code",
      "metadata": {
        "id": "-UBcVkzRAFsH",
        "colab_type": "code",
        "colab": {
          "base_uri": "https://localhost:8080/",
          "height": 34
        },
        "outputId": "59898b20-0bd6-42a4-8a7c-5bad24b832dc"
      },
      "source": [
        "mse=(np.sum((data.age-np.mean(data.age))**2))/9\n",
        "mse"
      ],
      "execution_count": 36,
      "outputs": [
        {
          "output_type": "execute_result",
          "data": {
            "text/plain": [
              "577.1111111111111"
            ]
          },
          "metadata": {
            "tags": []
          },
          "execution_count": 36
        }
      ]
    },
    {
      "cell_type": "code",
      "metadata": {
        "id": "O9ujBlylDzsH",
        "colab_type": "code",
        "colab": {
          "base_uri": "https://localhost:8080/",
          "height": 34
        },
        "outputId": "50878e64-fe93-4fd4-c99b-587c7345b64e"
      },
      "source": [
        "F=(13+14+15+35)/4\n",
        "F"
      ],
      "execution_count": 39,
      "outputs": [
        {
          "output_type": "execute_result",
          "data": {
            "text/plain": [
              "19.25"
            ]
          },
          "metadata": {
            "tags": []
          },
          "execution_count": 39
        }
      ]
    },
    {
      "cell_type": "code",
      "metadata": {
        "id": "tDhO1u_iFOxD",
        "colab_type": "code",
        "colab": {
          "base_uri": "https://localhost:8080/",
          "height": 34
        },
        "outputId": "a8e54efc-8510-4adf-d6d7-d416b6a35b89"
      },
      "source": [
        "T=(25+49+68+71+73)/5\n",
        "T"
      ],
      "execution_count": 41,
      "outputs": [
        {
          "output_type": "execute_result",
          "data": {
            "text/plain": [
              "57.2"
            ]
          },
          "metadata": {
            "tags": []
          },
          "execution_count": 41
        }
      ]
    },
    {
      "cell_type": "code",
      "metadata": {
        "id": "aeX_aRPTFiNI",
        "colab_type": "code",
        "colab": {}
      },
      "source": [
        "ageF=np.array([13,14,15,35])\n",
        "ageT=np.array([25,49,68,71,73])"
      ],
      "execution_count": 0,
      "outputs": []
    },
    {
      "cell_type": "code",
      "metadata": {
        "id": "9AIDut3FGQ9b",
        "colab_type": "code",
        "colab": {
          "base_uri": "https://localhost:8080/",
          "height": 34
        },
        "outputId": "1dd396df-d54e-4ab6-be02-84b034473ea7"
      },
      "source": [
        "mseF=(np.sum((ageF-np.mean(ageF))**2))/4\n",
        "mseF"
      ],
      "execution_count": 43,
      "outputs": [
        {
          "output_type": "execute_result",
          "data": {
            "text/plain": [
              "83.1875"
            ]
          },
          "metadata": {
            "tags": []
          },
          "execution_count": 43
        }
      ]
    },
    {
      "cell_type": "code",
      "metadata": {
        "id": "ztPyx5tAGTZ4",
        "colab_type": "code",
        "colab": {
          "base_uri": "https://localhost:8080/",
          "height": 34
        },
        "outputId": "7f2768bf-227c-4d5a-a78d-c7460834e0df"
      },
      "source": [
        "mseT=(np.sum((ageT-np.mean(ageT))**2))/5\n",
        "mseT"
      ],
      "execution_count": 44,
      "outputs": [
        {
          "output_type": "execute_result",
          "data": {
            "text/plain": [
              "332.15999999999997"
            ]
          },
          "metadata": {
            "tags": []
          },
          "execution_count": 44
        }
      ]
    },
    {
      "cell_type": "code",
      "metadata": {
        "id": "Od6a-t2TGpoC",
        "colab_type": "code",
        "colab": {
          "base_uri": "https://localhost:8080/",
          "height": 34
        },
        "outputId": "fb42c92d-359a-4f89-d51f-64e038a6ec2c"
      },
      "source": [
        "MSE=mseF+mseT\n",
        "MSE"
      ],
      "execution_count": 46,
      "outputs": [
        {
          "output_type": "execute_result",
          "data": {
            "text/plain": [
              "415.34749999999997"
            ]
          },
          "metadata": {
            "tags": []
          },
          "execution_count": 46
        }
      ]
    },
    {
      "cell_type": "code",
      "metadata": {
        "id": "n1thBuNwGuD0",
        "colab_type": "code",
        "colab": {
          "base_uri": "https://localhost:8080/",
          "height": 34
        },
        "outputId": "307668d5-e663-4ace-e6fd-a1863db3e16b"
      },
      "source": [
        "Residue1=ageF-np.mean(ageF)\n",
        "Residue1"
      ],
      "execution_count": 48,
      "outputs": [
        {
          "output_type": "execute_result",
          "data": {
            "text/plain": [
              "array([-6.25, -5.25, -4.25, 15.75])"
            ]
          },
          "metadata": {
            "tags": []
          },
          "execution_count": 48
        }
      ]
    },
    {
      "cell_type": "code",
      "metadata": {
        "id": "ydq2sot7H20d",
        "colab_type": "code",
        "colab": {
          "base_uri": "https://localhost:8080/",
          "height": 34
        },
        "outputId": "a0388bbd-ac14-4c7e-ef27-0471dc4a2a16"
      },
      "source": [
        "Residue2=ageT-np.mean(ageT)\n",
        "Residue2"
      ],
      "execution_count": 50,
      "outputs": [
        {
          "output_type": "execute_result",
          "data": {
            "text/plain": [
              "array([-32.2,  -8.2,  10.8,  13.8,  15.8])"
            ]
          },
          "metadata": {
            "tags": []
          },
          "execution_count": 50
        }
      ]
    },
    {
      "cell_type": "code",
      "metadata": {
        "id": "4QNDdW-yIAwr",
        "colab_type": "code",
        "colab": {}
      },
      "source": [
        "residueavg1=np.array([-6.25, -5.25, -4.25, 15.75,-32.2,10.8])\n"
      ],
      "execution_count": 0,
      "outputs": []
    },
    {
      "cell_type": "code",
      "metadata": {
        "id": "Upy11IEAKrfw",
        "colab_type": "code",
        "colab": {
          "base_uri": "https://localhost:8080/",
          "height": 34
        },
        "outputId": "d3290fbf-716d-4fe2-98b8-248bb4bc33b8"
      },
      "source": [
        "np.mean(residueavg1)"
      ],
      "execution_count": 55,
      "outputs": [
        {
          "output_type": "execute_result",
          "data": {
            "text/plain": [
              "-3.566666666666667"
            ]
          },
          "metadata": {
            "tags": []
          },
          "execution_count": 55
        }
      ]
    },
    {
      "cell_type": "code",
      "metadata": {
        "id": "3UszAD2TLLnT",
        "colab_type": "code",
        "colab": {
          "base_uri": "https://localhost:8080/",
          "height": 34
        },
        "outputId": "1626ba8f-f42a-4eb1-abba-ef11981b7ec6"
      },
      "source": [
        "residueavg2=np.array([-8.2,13.8,15.8])\n",
        "np.mean(residueavg2)"
      ],
      "execution_count": 56,
      "outputs": [
        {
          "output_type": "execute_result",
          "data": {
            "text/plain": [
              "7.133333333333334"
            ]
          },
          "metadata": {
            "tags": []
          },
          "execution_count": 56
        }
      ]
    },
    {
      "cell_type": "code",
      "metadata": {
        "id": "MVW7uhfuNHhD",
        "colab_type": "code",
        "colab": {
          "base_uri": "https://localhost:8080/",
          "height": 34
        },
        "outputId": "1c7d27f1-ad60-41bb-e045-413035947fc9"
      },
      "source": [
        "Y_pred=np.array([19.25,19.25,19.25,57.2,19.25,57.2,57.2,57.2,57.2])\n",
        "Y_pred"
      ],
      "execution_count": 68,
      "outputs": [
        {
          "output_type": "execute_result",
          "data": {
            "text/plain": [
              "array([19.25, 19.25, 19.25, 57.2 , 19.25, 57.2 , 57.2 , 57.2 , 57.2 ])"
            ]
          },
          "metadata": {
            "tags": []
          },
          "execution_count": 68
        }
      ]
    },
    {
      "cell_type": "code",
      "metadata": {
        "id": "zLHY680QLyTi",
        "colab_type": "code",
        "colab": {
          "base_uri": "https://localhost:8080/",
          "height": 34
        },
        "outputId": "2a9887cd-c2f3-444f-86e6-2d40b0bd1c16"
      },
      "source": [
        "tree2=np.array([-3.56,-3.56,-3.56,-3.56,-3.56,7.13,-3.56,7.13,7.13])\n",
        "tree2"
      ],
      "execution_count": 62,
      "outputs": [
        {
          "output_type": "execute_result",
          "data": {
            "text/plain": [
              "array([-3.56, -3.56, -3.56, -3.56, -3.56,  7.13, -3.56,  7.13,  7.13])"
            ]
          },
          "metadata": {
            "tags": []
          },
          "execution_count": 62
        }
      ]
    },
    {
      "cell_type": "code",
      "metadata": {
        "id": "r9pRm9T0MrUV",
        "colab_type": "code",
        "colab": {
          "base_uri": "https://localhost:8080/",
          "height": 34
        },
        "outputId": "630a9b9c-f920-4315-940f-c80dba390ef2"
      },
      "source": [
        "ensembleprediction=np.subtract(Y_pred,-(tree2))\n",
        "ensembleprediction"
      ],
      "execution_count": 70,
      "outputs": [
        {
          "output_type": "execute_result",
          "data": {
            "text/plain": [
              "array([15.69, 15.69, 15.69, 53.64, 15.69, 64.33, 53.64, 64.33, 64.33])"
            ]
          },
          "metadata": {
            "tags": []
          },
          "execution_count": 70
        }
      ]
    },
    {
      "cell_type": "code",
      "metadata": {
        "id": "bqk3AkH-Npza",
        "colab_type": "code",
        "colab": {
          "base_uri": "https://localhost:8080/",
          "height": 34
        },
        "outputId": "bb008f9c-d34e-408e-d585-1846a9941d30"
      },
      "source": [
        "np.mean(ensembleprediction)"
      ],
      "execution_count": 71,
      "outputs": [
        {
          "output_type": "execute_result",
          "data": {
            "text/plain": [
              "40.336666666666666"
            ]
          },
          "metadata": {
            "tags": []
          },
          "execution_count": 71
        }
      ]
    },
    {
      "cell_type": "code",
      "metadata": {
        "id": "C7kAdIiGPb5y",
        "colab_type": "code",
        "colab": {
          "base_uri": "https://localhost:8080/",
          "height": 34
        },
        "outputId": "287fc47b-db48-4946-c6ca-9ff5961fec1b"
      },
      "source": [
        "mse=(np.sum((age-np.mean(ensembleprediction))**2))/9\n",
        "mse"
      ],
      "execution_count": 78,
      "outputs": [
        {
          "output_type": "execute_result",
          "data": {
            "text/plain": [
              "577.1111222222222"
            ]
          },
          "metadata": {
            "tags": []
          },
          "execution_count": 78
        }
      ]
    },
    {
      "cell_type": "code",
      "metadata": {
        "id": "M8W4oNEqPp6_",
        "colab_type": "code",
        "colab": {
          "base_uri": "https://localhost:8080/",
          "height": 51
        },
        "outputId": "4c25cef3-e00e-4977-ebb2-446c9049317e"
      },
      "source": [
        "finalresidue=np.subtract(age,ensembleprediction)\n",
        "finalresidue"
      ],
      "execution_count": 81,
      "outputs": [
        {
          "output_type": "execute_result",
          "data": {
            "text/plain": [
              "array([ -2.69,  -1.69,  -0.69, -28.64,  19.31, -15.33,  14.36,   6.67,\n",
              "         8.67])"
            ]
          },
          "metadata": {
            "tags": []
          },
          "execution_count": 81
        }
      ]
    },
    {
      "cell_type": "code",
      "metadata": {
        "id": "k7nMAv7fUV9P",
        "colab_type": "code",
        "colab": {
          "base_uri": "https://localhost:8080/",
          "height": 54
        },
        "outputId": "a60f5f63-e0a3-45e9-8a46-f0bf6ad3b36c"
      },
      "source": [
        "auc_avg=[]\n",
        "for val in np.arange(1,200):\n",
        "    Gboost=Gboost=GradientBoostingClassifier(n_estimators=val)\n",
        "    kfold = model_selection.KFold(shuffle=True,n_splits=15,random_state=0)\n",
        "    results = model_selection.cross_val_score(Gboost,X_ALL,Y,cv=kfold,scoring='roc_auc')\n",
        "    auc_avg.append(np.var(results,ddof=1))\n",
        "print(auc_avg)"
      ],
      "execution_count": 101,
      "outputs": [
        {
          "output_type": "stream",
          "text": [
            "[0.003974895789663893, 0.003405734646250979, 0.004299387899435604, 0.004413840246689337, 0.004332424008154359, 0.004173922125064358, 0.003925223087289443, 0.003945482172300662, 0.0038015874468195136, 0.004015486184714442, 0.003858329105121283, 0.003938812406607336, 0.004176371773446856, 0.004156896563110477, 0.004052619692130956, 0.004178716321552193, 0.004074768962896326, 0.0038883206149498274, 0.004000544852045995, 0.004033680670892369, 0.004035550536070604, 0.0037917140497340626, 0.003921761526482487, 0.003724179711181108, 0.0036961349377826855, 0.003715555644993356, 0.0037335746479504424, 0.0035487677573957863, 0.0034881535643944356, 0.0035765287636161393, 0.00347614436737247, 0.003537109724052853, 0.0033444649363285764, 0.0035134397063496894, 0.0034752313539031655, 0.0032383943596729007, 0.003375874133131597, 0.0032583254468782005, 0.0033226537183538665, 0.003260941174325797, 0.0032661840176573184, 0.0031543828344753173, 0.0032824951781614954, 0.003284571434375708, 0.003196954027851477, 0.0030183590828106364, 0.0029672594662322528, 0.003207444643296145, 0.0032684569758593502, 0.003128789048148378, 0.0031598766607309303, 0.0030080868051996683, 0.003261636761931456, 0.0031438544094512717, 0.0031306213327185234, 0.0031070483464451467, 0.003075196362564089, 0.0027551764901579635, 0.0027613085227615208, 0.0027389215286346977, 0.002992522022240235, 0.002985776599913292, 0.0029635881226117095, 0.0029495411990639736, 0.002947043757724846, 0.0026358212911293303, 0.002685953098341158, 0.0029059238551423982, 0.0025753865457217653, 0.0026596546308266665, 0.002660776358278812, 0.002663241458926125, 0.002892169582381285, 0.0026227562295227935, 0.0025937375207642525, 0.0025358879875757192, 0.0028181972983092386, 0.0027786660951785963, 0.002707530443101098, 0.0026894183180044043, 0.0027314717468112106, 0.002553219812084379, 0.0026697525636484275, 0.002614528862542188, 0.0025068132820570688, 0.0025732102219707875, 0.0025257283757027962, 0.0023460011859390314, 0.002341008100534278, 0.0023445275806647085, 0.0024924795439583585, 0.0023843115272804143, 0.00243910035772684, 0.0023220245546386326, 0.0024401491182915974, 0.002381996450856872, 0.002511069460047528, 0.0023453294226958095, 0.0024648760354101192, 0.0021933805983116615, 0.0024022831363393732, 0.002374714212772575, 0.0021771838641621026, 0.0021036917446844708, 0.002334500286663879, 0.0022994303958233857, 0.0020859252856525344, 0.0022770306435890932, 0.0020856453030984067, 0.0022645142329077114, 0.0020438326021786257, 0.002264367578940323, 0.002056130997357028, 0.0020710465918940715, 0.0020019973357646484, 0.002222148508019606, 0.002008552835467299, 0.0018802626923132327, 0.0021772575518488766, 0.002140627162737429, 0.0021350787956694126, 0.0020730904481277997, 0.0020868441305622117, 0.0019280905409187474, 0.0020562907363542255, 0.002024079624299369, 0.002038887719388927, 0.002004606041331886, 0.0018383663416460785, 0.001944596824503424, 0.00197221031937611, 0.0019313537584917616, 0.0019158101403054964, 0.0019268297692758348, 0.001713680385068133, 0.0019182787456100063, 0.001682028529379183, 0.0018662809066980735, 0.0017130072503953174, 0.0017742988352004252, 0.0018790794680745785, 0.0017231723911063216, 0.0016471087727592602, 0.0016148930719144731, 0.0018821064115952019, 0.0016995102329286865, 0.0015612858548059477, 0.0018444288004853357, 0.001826853241894692, 0.0015499391874316665, 0.0018431410928307652, 0.0018110414250000185, 0.0016208685252992576, 0.001667285437867947, 0.0016759304105061718, 0.0017540758335839936, 0.0017725435389334637, 0.0017446910944170588, 0.0017432306142923033, 0.0016686929475013873, 0.0016760428750520334, 0.0017591306895574023, 0.0017263980713703533, 0.0017333489943534316, 0.001699545234944746, 0.0016420083019251836, 0.0016962469484400574, 0.0016790212977773594, 0.001691948606924126, 0.0017850558895457695, 0.001802030583175068, 0.0017502013106254477, 0.0016611852810257271, 0.0017289758946428015, 0.0016697407144606294, 0.0017213647419359324, 0.0017365446729926393, 0.0017609298118348162, 0.0017409425137874257, 0.0017718474934723047, 0.0015699967246782507, 0.0015790581421358167, 0.0017213971149460463, 0.0016812558671950118, 0.0016550378295842585, 0.0016700850122942916, 0.001659048817171301, 0.0017094186018196216, 0.001731320151961297, 0.001761851944747038, 0.0016359563797327837, 0.001567046790437273, 0.0016147411499732158, 0.0016021531789544685, 0.0017498775264745603, 0.001567428557312564, 0.0015927336106607904, 0.0017215301371134345, 0.0015228628514714294]\n"
          ],
          "name": "stdout"
        }
      ]
    },
    {
      "cell_type": "code",
      "metadata": {
        "id": "cKWVLEoQZePl",
        "colab_type": "code",
        "colab": {
          "base_uri": "https://localhost:8080/",
          "height": 34
        },
        "outputId": "cd908e18-023e-4468-b1c0-26f6a02d598a"
      },
      "source": [
        "np.argmin(auc_avg)"
      ],
      "execution_count": 102,
      "outputs": [
        {
          "output_type": "execute_result",
          "data": {
            "text/plain": [
              "198"
            ]
          },
          "metadata": {
            "tags": []
          },
          "execution_count": 102
        }
      ]
    },
    {
      "cell_type": "code",
      "metadata": {
        "id": "EXhxhYa1Z4Cy",
        "colab_type": "code",
        "colab": {
          "base_uri": "https://localhost:8080/",
          "height": 282
        },
        "outputId": "38255b08-d423-462e-c3f3-94e0eabf8d62"
      },
      "source": [
        "x_axis=np.arange(1,200)\n",
        "plt.plot(x_axis,auc_avg)"
      ],
      "execution_count": 105,
      "outputs": [
        {
          "output_type": "execute_result",
          "data": {
            "text/plain": [
              "[<matplotlib.lines.Line2D at 0x7ff84be74ba8>]"
            ]
          },
          "metadata": {
            "tags": []
          },
          "execution_count": 105
        },
        {
          "output_type": "display_data",
          "data": {
            "image/png": "[encoded data removed]",
            "text/plain": [
              "<Figure size 432x288 with 1 Axes>"
            ]
          },
          "metadata": {
            "tags": [],
            "needs_background": "light"
          }
        }
      ]
    },
    {
      "cell_type": "code",
      "metadata": {
        "id": "rNoPL8AcaAgL",
        "colab_type": "code",
        "colab": {}
      },
      "source": [
        "\n"
      ],
      "execution_count": 0,
      "outputs": []
    }
  ]
}